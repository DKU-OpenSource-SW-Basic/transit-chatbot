{
 "cells": [
  {
   "cell_type": "code",
   "execution_count": 5,
   "id": "e1d03773-53e4-4627-afbe-94cec6d35244",
   "metadata": {},
   "outputs": [
    {
     "name": "stdout",
     "output_type": "stream",
     "text": [
      "Downloading model...\n"
     ]
    },
    {
     "name": "stderr",
     "output_type": "stream",
     "text": [
      "Downloading...\n",
      "From (original): https://drive.google.com/uc?id=1ebDhd7HPgclOwO_h3U7A1cXW9A8ujfbD\n",
      "From (redirected): https://drive.google.com/uc?id=1ebDhd7HPgclOwO_h3U7A1cXW9A8ujfbD&confirm=t&uuid=a2b9a259-f82e-4c77-9aa8-c583a91b572b\n",
      "To: C:\\Users\\user\\koGPT\\model.zip\n",
      "100%|███████████████████████████████████████████████████████████████████████████████| 833M/833M [02:26<00:00, 5.67MB/s]\n"
     ]
    },
    {
     "name": "stdout",
     "output_type": "stream",
     "text": [
      "Unzipping model...\n"
     ]
    }
   ],
   "source": [
    "import os\n",
    "import gdown\n",
    "from zipfile import ZipFile\n",
    "\n",
    "# 모델 다운로드\n",
    "file_id = \"1ebDhd7HPgclOwO_h3U7A1cXW9A8ujfbD\"  # ← 여기에 Drive 파일 ID 넣기\n",
    "url = f\"https://drive.google.com/uc?id={file_id}\"\n",
    "\n",
    "output_path = \"model.zip\"\n",
    "model_dir = \"./finetuned_model\"\n",
    "\n",
    "# 이미 존재하면 스킵\n",
    "if not os.path.exists(model_dir):\n",
    "    print(\"Downloading model...\")\n",
    "    gdown.download(url, output_path, quiet=False)\n",
    "\n",
    "    print(\"Unzipping model...\")\n",
    "    with ZipFile(output_path, 'r') as zip_ref:\n",
    "        zip_ref.extractall(model_dir)\n",
    "    os.remove(output_path)\n",
    "else:\n",
    "    print(\"Model already exists.\")\n"
   ]
  },
  {
   "cell_type": "markdown",
   "id": "d56d0ed6-f50c-4d58-a1d0-a6e191d04880",
   "metadata": {},
   "source": [
    "# 만약 gdown이 없을 때 실행하세요.\n"
   ]
  },
  {
   "cell_type": "code",
   "execution_count": 9,
   "id": "a6f28d82-7898-4f1c-923e-bfb61b8bd8bc",
   "metadata": {},
   "outputs": [
    {
     "name": "stdout",
     "output_type": "stream",
     "text": [
      "Requirement already satisfied: gdown in c:\\users\\user\\appdata\\local\\programs\\python\\python38\\lib\\site-packages (5.2.0)Note: you may need to restart the kernel to use updated packages.\n",
      "\n",
      "Requirement already satisfied: beautifulsoup4 in c:\\users\\user\\appdata\\local\\programs\\python\\python38\\lib\\site-packages (from gdown) (4.12.2)\n",
      "Requirement already satisfied: filelock in c:\\users\\user\\appdata\\local\\programs\\python\\python38\\lib\\site-packages (from gdown) (3.13.4)\n",
      "Requirement already satisfied: requests[socks] in c:\\users\\user\\appdata\\local\\programs\\python\\python38\\lib\\site-packages (from gdown) (2.32.3)\n",
      "Requirement already satisfied: tqdm in c:\\users\\user\\appdata\\local\\programs\\python\\python38\\lib\\site-packages (from gdown) (4.67.1)\n",
      "Requirement already satisfied: soupsieve>1.2 in c:\\users\\user\\appdata\\local\\programs\\python\\python38\\lib\\site-packages (from beautifulsoup4->gdown) (2.5)\n",
      "Requirement already satisfied: charset-normalizer<4,>=2 in c:\\users\\user\\appdata\\local\\programs\\python\\python38\\lib\\site-packages (from requests[socks]->gdown) (3.2.0)\n",
      "Requirement already satisfied: idna<4,>=2.5 in c:\\users\\user\\appdata\\local\\programs\\python\\python38\\lib\\site-packages (from requests[socks]->gdown) (3.4)\n",
      "Requirement already satisfied: urllib3<3,>=1.21.1 in c:\\users\\user\\appdata\\local\\programs\\python\\python38\\lib\\site-packages (from requests[socks]->gdown) (2.0.4)\n",
      "Requirement already satisfied: certifi>=2017.4.17 in c:\\users\\user\\appdata\\local\\programs\\python\\python38\\lib\\site-packages (from requests[socks]->gdown) (2023.7.22)\n",
      "Requirement already satisfied: PySocks!=1.5.7,>=1.5.6 in c:\\users\\user\\appdata\\local\\programs\\python\\python38\\lib\\site-packages (from requests[socks]->gdown) (1.7.1)\n",
      "Requirement already satisfied: colorama in c:\\users\\user\\appdata\\local\\programs\\python\\python38\\lib\\site-packages (from tqdm->gdown) (0.4.6)\n"
     ]
    }
   ],
   "source": [
    "pip install gdown"
   ]
  },
  {
   "cell_type": "code",
   "execution_count": null,
   "id": "4cc63abb-f85f-4688-906c-83fad5c45c16",
   "metadata": {},
   "outputs": [],
   "source": []
  }
 ],
 "metadata": {
  "kernelspec": {
   "display_name": "Python 3 (ipykernel)",
   "language": "python",
   "name": "python3"
  },
  "language_info": {
   "codemirror_mode": {
    "name": "ipython",
    "version": 3
   },
   "file_extension": ".py",
   "mimetype": "text/x-python",
   "name": "python",
   "nbconvert_exporter": "python",
   "pygments_lexer": "ipython3",
   "version": "3.8.2"
  }
 },
 "nbformat": 4,
 "nbformat_minor": 5
}
